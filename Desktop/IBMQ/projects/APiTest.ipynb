{
 "cells": [
  {
   "cell_type": "code",
   "execution_count": 1,
   "id": "7f7def9c-0575-45fb-8247-9cd1bd9230ae",
   "metadata": {},
   "outputs": [
    {
     "name": "stdout",
     "output_type": "stream",
     "text": [
      "done1\n",
      "<QiskitRuntimeService>\n"
     ]
    }
   ],
   "source": [
    "import os\n",
    "import dotenv\n",
    "from pathlib import Path\n",
    "from qiskit_ibm_runtime import QiskitRuntimeService, Sampler, Options\n",
    "from qiskit import QuantumCircuit\n",
    "\n",
    "# Load the .env file from parent directory\n",
    "dotenv_path = Path(\"../../.env\")\n",
    "dotenv.load_dotenv(dotenv_path)\n",
    "\n",
    "# Get the API key from environment variables\n",
    "api_key = os.getenv(\"IBM_Q_API_KEY\")\n",
    "\n",
    "if not api_key:\n",
    "    raise ValueError(\"IBM_Q_API_KEY not found in environment variables\")\n",
    "\n",
    "# Connect to IBM Quantum using the API key from .env\n",
    "service = QiskitRuntimeService(channel=\"ibm_quantum\", token=api_key)\n",
    "\n",
    "print(\"done1\")\n",
    "print(service)\n"
   ]
  },
  {
   "cell_type": "code",
   "execution_count": 2,
   "id": "349b9aa3-f299-4ef1-bfe3-48b85d41e026",
   "metadata": {},
   "outputs": [
    {
     "name": "stdout",
     "output_type": "stream",
     "text": [
      "Active Account: {'channel': 'ibm_quantum', 'url': 'https://auth.quantum.ibm.com/api', 'token': '2ded0516e09481a3ad8a0c271e1243401a538e48c5791b4cbf726f8d785a829570b138346b4eab4ea0b2cb055b9f846310c02194f79bec08746032ed840650f6', 'verify': True, 'private_endpoint': False}\n",
      "done2\n"
     ]
    }
   ],
   "source": [
    "active_account = service.active_account()\n",
    "print(f\"Active Account: {active_account}\")\n",
    "print(\"done2\")"
   ]
  },
  {
   "cell_type": "code",
   "execution_count": 3,
   "id": "e6c88b99-f204-4b9f-91e7-6dbc77bc9172",
   "metadata": {},
   "outputs": [
    {
     "name": "stdout",
     "output_type": "stream",
     "text": [
      "Available backends: [<IBMBackend('ibm_brisbane')>, <IBMBackend('ibm_kyiv')>, <IBMBackend('ibm_sherbrooke')>]\n",
      "done3\n"
     ]
    }
   ],
   "source": [
    "backends = service.backends(min_num_qubits=100)\n",
    "print(f\"Available backends: {backends}\")\n",
    "print(\"done3\")"
   ]
  },
  {
   "cell_type": "code",
   "execution_count": 4,
   "id": "6a50d81e-92f5-43f7-bdbe-c9b49884e2b6",
   "metadata": {},
   "outputs": [
    {
     "name": "stdout",
     "output_type": "stream",
     "text": [
      "Least busy backend: ibm_brisbane\n"
     ]
    }
   ],
   "source": [
    "# Test case: Get the least busy backend\n",
    "least_busy_backend = service.least_busy()\n",
    "print(f\"Least busy backend: {least_busy_backend.name}\")"
   ]
  },
  {
   "cell_type": "code",
   "execution_count": 5,
   "id": "19d85fd9-c223-442e-adcf-e42225741ebf",
   "metadata": {},
   "outputs": [
    {
     "name": "stdout",
     "output_type": "stream",
     "text": [
      "Pending jobs: None\n"
     ]
    }
   ],
   "source": [
    "# Test case: Check pending jobs (if any)\n",
    "pending_jobs = service.check_pending_jobs()\n",
    "print(f\"Pending jobs: {pending_jobs}\")"
   ]
  },
  {
   "cell_type": "code",
   "execution_count": 6,
   "id": "7372308e-09a9-4329-9b02-104b5351fe55",
   "metadata": {},
   "outputs": [
    {
     "name": "stdout",
     "output_type": "stream",
     "text": [
      "{'default-ibm-quantum': {'channel': 'ibm_quantum', 'url': 'https://auth.quantum.ibm.com/api', 'token': '2ded0516e09481a3ad8a0c271e1243401a538e48c5791b4cbf726f8d785a829570b138346b4eab4ea0b2cb055b9f846310c02194f79bec08746032ed840650f6', 'verify': True, 'private_endpoint': False}}\n"
     ]
    }
   ],
   "source": [
    "safedAccounts = service.saved_accounts()\n",
    "print(safedAccounts)"
   ]
  },
  {
   "cell_type": "code",
   "execution_count": 7,
   "id": "20e4cde2-5471-472f-ab55-5c50d16cf734",
   "metadata": {},
   "outputs": [
    {
     "name": "stdout",
     "output_type": "stream",
     "text": [
      "{'period': {'start': '2025-03-01T00:00:00.000Z', 'end': '2025-03-31T23:59:59.999Z'}, 'byInstance': [{'instance': 'ibm-q/open/main', 'quota': 600, 'usage': 33, 'pendingJobs': 1, 'maxPendingJobs': 3}]}\n"
     ]
    }
   ],
   "source": [
    "print(service.usage())"
   ]
  },
  {
   "cell_type": "code",
   "execution_count": null,
   "id": "a0b0561b-8909-4fc1-b273-5f29bfa75a35",
   "metadata": {},
   "outputs": [],
   "source": []
  },
  {
   "cell_type": "code",
   "execution_count": null,
   "id": "66c876d6-b544-48ae-aefe-87348b1ebdf9",
   "metadata": {},
   "outputs": [],
   "source": []
  }
 ],
 "metadata": {
  "kernelspec": {
   "display_name": "Python 3 (ipykernel)",
   "language": "python",
   "name": "python3"
  },
  "language_info": {
   "codemirror_mode": {
    "name": "ipython",
    "version": 3
   },
   "file_extension": ".py",
   "mimetype": "text/x-python",
   "name": "python",
   "nbconvert_exporter": "python",
   "pygments_lexer": "ipython3",
   "version": "3.13.1"
  }
 },
 "nbformat": 4,
 "nbformat_minor": 5
}
