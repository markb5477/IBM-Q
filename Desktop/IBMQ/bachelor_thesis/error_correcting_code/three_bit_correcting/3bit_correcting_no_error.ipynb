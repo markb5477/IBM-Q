{
 "cells": [
  {
   "cell_type": "code",
   "execution_count": 22,
   "id": "be44982a-1c0a-4202-b93b-f92ecbe84f12",
   "metadata": {},
   "outputs": [],
   "source": [
    "# Add the directory containing api_connection.py to the system path\n",
    "import sys\n",
    "import os\n",
    "from collections import Counter\n",
    "import numpy as np\n",
    "from pathlib import Path\n",
    "from qiskit import QuantumRegister, ClassicalRegister, QuantumCircuit\n",
    "from qiskit.quantum_info import DensityMatrix, partial_trace, entropy, Statevector, shannon_entropy\n",
    "from qiskit_experiments.library import StateTomography\n",
    "from qiskit.transpiler.preset_passmanagers import generate_preset_pass_manager\n",
    "from qiskit_ibm_runtime import QiskitRuntimeService, Session, SamplerV2 as Sampler\n",
    "from qiskit.visualization import plot_histogram\n",
    "sys.path.append(str(Path.cwd() / \"bachelor_thesis\"))\n",
    "from api_connection import QiskitService\n",
    "from qiskit_aer import AerSimulator  # For simulation comparison\n",
    "\n",
    "\n"
   ]
  },
  {
   "cell_type": "code",
   "execution_count": 23,
   "id": "770b2489",
   "metadata": {},
   "outputs": [
    {
     "name": "stdout",
     "output_type": "stream",
     "text": [
      "Connected to IBM Quantum.\n"
     ]
    }
   ],
   "source": [
    "# Initialize your QiskitService\n",
    "qiskit_service = QiskitService(str(Path.cwd() / \".env\"))\n",
    "\n",
    "# Select the backend\n",
    "backend = qiskit_service.get_least_busy_backend()"
   ]
  },
  {
   "cell_type": "code",
   "execution_count": 24,
   "id": "6be71299-4361-442c-ae0e-e0c227c48b20",
   "metadata": {},
   "outputs": [
    {
     "name": "stderr",
     "output_type": "stream",
     "text": [
      "C:\\Users\\markn\\Documents\\GitHub\\IBM-Q\\Desktop\\IBMQ\\Lib\\site-packages\\qiskit\\visualization\\circuit\\circuit_visualization.py:620: RuntimeWarning: Cregbundle set to False since an instruction needs to refer to individual classical wire\n",
      "  qcimg = _latex.QCircuitImage(\n"
     ]
    },
    {
     "data": {
      "text/plain": [
       "'\\\\documentclass[border=2px]{standalone}\\n\\n\\\\usepackage[braket, qm]{qcircuit}\\n\\\\usepackage{graphicx}\\n\\n\\\\begin{document}\\n\\\\scalebox{1.0}{\\n\\\\Qcircuit @C=1.0em @R=0.8em @!R { \\\\\\\\\\n\\t \\t\\\\nghost{{data}_{0} : \\\\ket{{0}} } & \\\\lstick{{data}_{0} : \\\\ket{{0}} } & \\\\ctrl{1} & \\\\ctrl{2} \\\\barrier[0em]{4} & \\\\qw & \\\\ctrl{3} & \\\\qw & \\\\qw & \\\\qw & \\\\qw & \\\\qw \\\\barrier[0em]{4} & \\\\qw & \\\\multigate{9}{\\\\mathrm{If_else}}_<<<{0} & \\\\qw & \\\\qw \\\\barrier[0em]{4} & \\\\qw & \\\\meter & \\\\qw & \\\\qw & \\\\qw & \\\\qw\\\\\\\\\\n\\t \\t\\\\nghost{{data}_{1} : \\\\ket{{0}} } & \\\\lstick{{data}_{1} : \\\\ket{{0}} } & \\\\targ & \\\\qw & \\\\qw & \\\\qw & \\\\ctrl{2} & \\\\qw & \\\\ctrl{3} & \\\\qw & \\\\qw & \\\\qw & \\\\ghost{\\\\mathrm{If_else}} & \\\\multigate{8}{\\\\mathrm{If_else}}_<<<{0} & \\\\qw & \\\\qw & \\\\qw & \\\\meter & \\\\qw & \\\\qw & \\\\qw\\\\\\\\\\n\\t \\t\\\\nghost{{data}_{2} : \\\\ket{{0}} } & \\\\lstick{{data}_{2} : \\\\ket{{0}} } & \\\\qw & \\\\targ & \\\\qw & \\\\qw & \\\\qw & \\\\qw & \\\\qw & \\\\ctrl{2} & \\\\qw & \\\\qw & \\\\ghost{\\\\mathrm{If_else}} & \\\\ghost{\\\\mathrm{If_else}} & \\\\multigate{7}{\\\\mathrm{If_else}}_<<<{0} & \\\\qw & \\\\qw & \\\\qw & \\\\meter & \\\\qw & \\\\qw\\\\\\\\\\n\\t \\t\\\\nghost{{ancilla}_{0} : \\\\ket{{0}} } & \\\\lstick{{ancilla}_{0} : \\\\ket{{0}} } & \\\\qw & \\\\qw & \\\\qw & \\\\targ & \\\\targ & \\\\meter & \\\\qw & \\\\qw & \\\\qw & \\\\qw & \\\\ghost{\\\\mathrm{If_else}} & \\\\ghost{\\\\mathrm{If_else}} & \\\\ghost{\\\\mathrm{If_else}} & \\\\qw & \\\\qw & \\\\qw & \\\\qw & \\\\qw & \\\\qw\\\\\\\\\\n\\t \\t\\\\nghost{{ancilla}_{1} : \\\\ket{{0}} } & \\\\lstick{{ancilla}_{1} : \\\\ket{{0}} } & \\\\qw & \\\\qw & \\\\qw & \\\\qw & \\\\qw & \\\\qw & \\\\targ & \\\\targ & \\\\meter & \\\\qw & \\\\ghost{\\\\mathrm{If_else}} & \\\\ghost{\\\\mathrm{If_else}} & \\\\ghost{\\\\mathrm{If_else}} & \\\\qw & \\\\qw & \\\\qw & \\\\qw & \\\\qw & \\\\qw\\\\\\\\\\n\\t \\t\\\\nghost{{logical\\\\_out}_{0} : 0 } & \\\\lstick{{logical\\\\_out}_{0} : 0 } & \\\\cw & \\\\cw & \\\\cw & \\\\cw & \\\\cw & \\\\cw & \\\\cw & \\\\cw & \\\\cw & \\\\cw & \\\\cghost{\\\\mathrm{If_else}} & \\\\cghost{\\\\mathrm{If_else}} & \\\\cghost{\\\\mathrm{If_else}} & \\\\cw & \\\\cw \\\\ar @{<=} [-5,0] & \\\\cw & \\\\cw & \\\\cw & \\\\cw\\\\\\\\\\n\\t \\t\\\\nghost{{logical\\\\_out}_{1} : 0 } & \\\\lstick{{logical\\\\_out}_{1} : 0 } & \\\\cw & \\\\cw & \\\\cw & \\\\cw & \\\\cw & \\\\cw & \\\\cw & \\\\cw & \\\\cw & \\\\cw & \\\\cghost{\\\\mathrm{If_else}} & \\\\cghost{\\\\mathrm{If_else}} & \\\\cghost{\\\\mathrm{If_else}} & \\\\cw & \\\\cw & \\\\cw \\\\ar @{<=} [-5,0] & \\\\cw & \\\\cw & \\\\cw\\\\\\\\\\n\\t \\t\\\\nghost{{logical\\\\_out}_{2} : 0 } & \\\\lstick{{logical\\\\_out}_{2} : 0 } & \\\\cw & \\\\cw & \\\\cw & \\\\cw & \\\\cw & \\\\cw & \\\\cw & \\\\cw & \\\\cw & \\\\cw & \\\\cghost{\\\\mathrm{If_else}} & \\\\cghost{\\\\mathrm{If_else}} & \\\\cghost{\\\\mathrm{If_else}} & \\\\cw & \\\\cw & \\\\cw & \\\\cw \\\\ar @{<=} [-5,0] & \\\\cw & \\\\cw\\\\\\\\\\n\\t \\t\\\\nghost{{syndrome}_{0} : 0 } & \\\\lstick{{syndrome}_{0} : 0 } & \\\\cw & \\\\cw & \\\\cw & \\\\cw & \\\\cw & \\\\cw \\\\ar @{<=} [-5,0] & \\\\cw & \\\\cw & \\\\cw & \\\\cw & \\\\cghost{\\\\mathrm{If_else}}_<<<{0} & \\\\cghost{\\\\mathrm{If_else}}_<<<{0} & \\\\cghost{\\\\mathrm{If_else}}_<<<{0} & \\\\cw & \\\\cw & \\\\cw & \\\\cw & \\\\cw & \\\\cw\\\\\\\\\\n\\t \\t\\\\nghost{{syndrome}_{1} : 0 } & \\\\lstick{{syndrome}_{1} : 0 } & \\\\cw & \\\\cw & \\\\cw & \\\\cw & \\\\cw & \\\\cw & \\\\cw & \\\\cw & \\\\cw \\\\ar @{<=} [-5,0] & \\\\cw & \\\\cghost{\\\\mathrm{If_else}}_<<<{1} & \\\\cghost{\\\\mathrm{If_else}}_<<<{1} & \\\\cghost{\\\\mathrm{If_else}}_<<<{1} & \\\\cw & \\\\cw & \\\\cw & \\\\cw & \\\\cw & \\\\cw\\\\\\\\\\n\\\\\\\\ }}\\n\\\\end{document}'"
      ]
     },
     "execution_count": 24,
     "metadata": {},
     "output_type": "execute_result"
    }
   ],
   "source": [
    "\n",
    "# Create a circuit with a register of three qubits\n",
    "data = QuantumRegister(3,'data')\n",
    "ancilla = QuantumRegister(2,'ancilla')\n",
    "logical_out = ClassicalRegister(3,'logical_out')\n",
    "syndrome = ClassicalRegister(2,'syndrome')\n",
    "circuit = QuantumCircuit(data, ancilla, logical_out, syndrome)\n",
    "\n",
    "\n",
    "# Step 1: Prepare initial state (e.g., superposition for testing)\n",
    "#circuit.h(data[0])  # |ψ⟩ = (|0⟩ + |1⟩)/√2\n",
    "\n",
    "# Step 2: Encoding (|ψ⟩ → α|000⟩ + β|111⟩)\n",
    "circuit.cx(data[0], data[1])  # CNOT q0→q1\n",
    "circuit.cx(data[0], data[2])  # CNOT q0→q2\n",
    "circuit.barrier()\n",
    "\n",
    "# Step 4: Syndrome measurement (Z0Z1, Z1Z2)\n",
    "# Z0Z1: CNOTs from q0, q1 to a0\n",
    "circuit.cx(data[0], ancilla[0])\n",
    "circuit.cx(data[1], ancilla[0])\n",
    "circuit.measure(ancilla[0], syndrome[0])\n",
    "\n",
    "# Z1Z2: CNOTs from q1, q2 to a1\n",
    "circuit.cx(data[1], ancilla[1])\n",
    "circuit.cx(data[2], ancilla[1])\n",
    "circuit.measure(ancilla[1], syndrome[1])\n",
    "circuit.barrier()\n",
    "\n",
    "\n",
    "# Step 5: Error correction based on syndrome\n",
    "with circuit.if_test((syndrome, 0b01)):  # Syndrome 01: error on q0\n",
    "    circuit.x(data[0])\n",
    "    \n",
    "with circuit.if_test((syndrome, 0b11)):  # Syndrome 11: error on q1\n",
    "    circuit.x(data[1])\n",
    "\n",
    "with circuit.if_test((syndrome, 0b10)):  # Syndrome 10: error on q2\n",
    "    circuit.x(data[2])\n",
    "\n",
    "\n",
    "\n",
    "circuit.barrier()\n",
    "\n",
    "# Step 6: Measure logical state\n",
    "for i in range(3):\n",
    "    circuit.measure(data[i], logical_out[i])\n",
    "\n",
    "circuit.draw('latex_source', filename='circuit.tex', initial_state=True) "
   ]
  },
  {
   "cell_type": "code",
   "execution_count": 25,
   "id": "a7ebda72",
   "metadata": {},
   "outputs": [
    {
     "name": "stdout",
     "output_type": "stream",
     "text": [
      "{'00 000': 10000}\n",
      "['00 000']\n"
     ]
    }
   ],
   "source": [
    "# Simulation parameters\n",
    "simulator = AerSimulator()  # Try default simulator first\n",
    "NUM_SHOTS = 10000\n",
    "classic_job = simulator.run(circuit, shots=NUM_SHOTS)\n",
    "classic_result = classic_job.result()\n",
    "counts = classic_result.get_counts()\n",
    "CodeWord = list(counts.keys())\n",
    "print(counts)\n",
    "print(CodeWord)\n"
   ]
  },
  {
   "cell_type": "code",
   "execution_count": 26,
   "id": "0fe2d34b",
   "metadata": {},
   "outputs": [
    {
     "name": "stdout",
     "output_type": "stream",
     "text": [
      "Job ID: d0k5zfdcrrag008nbky0, \n",
      " Job Status: QUEUED\n"
     ]
    }
   ],
   "source": [
    "preset_manager = generate_preset_pass_manager(backend=backend, \n",
    "                                  optimization_level=3)\n",
    "preset_circuit = preset_manager.run(circuit,)\n",
    "job = Sampler(mode=backend).run([(preset_circuit)], shots=NUM_SHOTS)\n",
    "print(f\"Job ID: {job.job_id()}, \\n Job Status: {job.status()}\")"
   ]
  },
  {
   "cell_type": "code",
   "execution_count": 27,
   "id": "53163fc3",
   "metadata": {},
   "outputs": [
    {
     "name": "stdout",
     "output_type": "stream",
     "text": [
      "Counts for the 'data' output register: {'110': 130, '001': 2651, '000': 4518, '011': 1095, '010': 1225, '111': 128, '100': 146, '101': 107}\n",
      "Counts for the 'syndrome' output register: {'11': 394, '00': 7076, '01': 2131, '10': 399}\n"
     ]
    }
   ],
   "source": [
    "result = job.result()\n",
    "pub_result = result[0]\n",
    "print(f\"Counts for the 'data' output register: {pub_result.data.logical_out.get_counts()}\")\n",
    "print(f\"Counts for the 'syndrome' output register: {pub_result.data.syndrome.get_counts()}\")"
   ]
  },
  {
   "cell_type": "code",
   "execution_count": null,
   "id": "b9b755ae",
   "metadata": {},
   "outputs": [
    {
     "data": {
      "image/png": "[encoded data removed]",
      "text/plain": [
       "<Figure size 640x480 with 1 Axes>"
      ]
     },
     "execution_count": 28,
     "metadata": {},
     "output_type": "execute_result"
    }
   ],
   "source": [
    "\n",
    "plot_histogram(pub_result.data.logical_out.get_counts(), title=\"Syndrome Distribution\")\n"
   ]
  },
  {
   "cell_type": "code",
   "execution_count": 32,
   "id": "95edd5a9",
   "metadata": {},
   "outputs": [
    {
     "data": {
      "image/png": "[encoded data removed]",
      "text/plain": [
       "<Figure size 640x480 with 1 Axes>"
      ]
     },
     "execution_count": 32,
     "metadata": {},
     "output_type": "execute_result"
    }
   ],
   "source": [
    "plot_histogram(pub_result.data.syndrome.get_counts(), title=\"Data Distribution\")\n"
   ]
  },
  {
   "cell_type": "code",
   "execution_count": 30,
   "id": "311c08ae",
   "metadata": {},
   "outputs": [
    {
     "name": "stdout",
     "output_type": "stream",
     "text": [
      "None\n"
     ]
    }
   ],
   "source": [
    "print(qiskit_service.check_pending_jobs())\n"
   ]
  },
  {
   "cell_type": "code",
   "execution_count": 31,
   "id": "874f493a",
   "metadata": {},
   "outputs": [
    {
     "name": "stdout",
     "output_type": "stream",
     "text": [
      "\n",
      "Shannon Entropy (logical_out): 2.067134\n",
      "Shannon Entropy (syndrome): 1.197647\n"
     ]
    }
   ],
   "source": [
    "logical_out_counts = pub_result.data.logical_out.get_counts()\n",
    "\n",
    "total_shots = sum(logical_out_counts.values())\n",
    "\n",
    "probability_vector = [count / total_shots for count in logical_out_counts.values()]\n",
    "\n",
    "entropy_value = shannon_entropy(probability_vector)\n",
    "print(f\"\\nShannon Entropy (logical_out): {entropy_value:.6f}\")\n",
    "\n",
    "syndrome_counts = pub_result.data.syndrome.get_counts()\n",
    "syndrome_probability_vector = [count / total_shots for count in syndrome_counts.values()]\n",
    "\n",
    "syndrome_entropy_value = shannon_entropy(syndrome_probability_vector)\n",
    "print(f\"Shannon Entropy (syndrome): {syndrome_entropy_value:.6f}\")"
   ]
  }
 ],
 "metadata": {
  "kernelspec": {
   "display_name": "Python 3 (ipykernel)",
   "language": "python",
   "name": "python3"
  }
 },
 "nbformat": 4,
 "nbformat_minor": 5
}
