{
 "cells": [
  {
   "cell_type": "code",
   "execution_count": null,
   "id": "5f4cd6cf-1276-4c29-b280-cd8f6fd21fac",
   "metadata": {},
   "outputs": [],
   "source": []
  }
 ],
 "metadata": {
  "kernelspec": {
   "display_name": "",
   "name": ""
  },
  "language_info": {
   "name": ""
  }
 },
 "nbformat": 4,
 "nbformat_minor": 5
}
